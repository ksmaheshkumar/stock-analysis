{
 "cells": [
  {
   "cell_type": "code",
   "execution_count": 1,
   "metadata": {},
   "outputs": [],
   "source": [
    "library(\"RSQLite\")\n",
    "\n",
    "## connect to db\n",
    "con <- dbConnect(drv=RSQLite::SQLite(), dbname=\"stocks.db\")"
   ]
  },
  {
   "cell_type": "code",
   "execution_count": null,
   "metadata": {},
   "outputs": [],
   "source": []
  },
  {
   "cell_type": "code",
   "execution_count": null,
   "metadata": {},
   "outputs": [],
   "source": [
    "## exclude sqlite_sequence (contains table information)\n",
    "tables <- tables[tables != \"sqlite_sequence\"]\n",
    "\n",
    "lDataFrames <- vector(\"list\", length=length(tables))\n",
    "\n",
    "## create a data.frame for each table\n",
    "for (i in seq(along=tables)) {\n",
    "  lDataFrames[[i]] <- dbGetQuery(conn=con, statement=paste(\"SELECT * FROM '\", tables[[i]], \"'\", sep=\"\"))\n",
    "}"
   ]
  }
 ],
 "metadata": {
  "kernelspec": {
   "display_name": "R",
   "language": "R",
   "name": "ir"
  },
  "language_info": {
   "codemirror_mode": "r",
   "file_extension": ".r",
   "mimetype": "text/x-r-source",
   "name": "R",
   "pygments_lexer": "r",
   "version": "3.6.1"
  }
 },
 "nbformat": 4,
 "nbformat_minor": 4
}
